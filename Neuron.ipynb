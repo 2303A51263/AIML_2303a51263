{
  "nbformat": 4,
  "nbformat_minor": 0,
  "metadata": {
    "colab": {
      "provenance": [],
      "authorship_tag": "ABX9TyOJj73pXhlC51FAdvI52SsH",
      "include_colab_link": true
    },
    "kernelspec": {
      "name": "python3",
      "display_name": "Python 3"
    },
    "language_info": {
      "name": "python"
    }
  },
  "cells": [
    {
      "cell_type": "markdown",
      "metadata": {
        "id": "view-in-github",
        "colab_type": "text"
      },
      "source": [
        "<a href=\"https://colab.research.google.com/github/2303A51263/AIML_2303a51263/blob/main/Neuron.ipynb\" target=\"_parent\"><img src=\"https://colab.research.google.com/assets/colab-badge.svg\" alt=\"Open In Colab\"/></a>"
      ]
    },
    {
      "cell_type": "code",
      "execution_count": 1,
      "metadata": {
        "colab": {
          "base_uri": "https://localhost:8080/"
        },
        "id": "W7RU1iJ-W8rY",
        "outputId": "e60f2fd1-a6a9-4ab2-87c9-8bea6acb92f6"
      },
      "outputs": [
        {
          "output_type": "stream",
          "name": "stdout",
          "text": [
            "2.3\n"
          ]
        }
      ],
      "source": [
        "inputs=[1,2,3]\n",
        "weights=[0.2,0.3,0.5]\n",
        "bias=2\n",
        "output=inputs[0]*weights[0]+inputs[1]*weights[1]+inputs[2]*weights[2]\n",
        "print(output)"
      ]
    }
  ]
}